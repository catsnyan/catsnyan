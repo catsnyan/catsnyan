{
  "nbformat": 4,
  "nbformat_minor": 0,
  "metadata": {
    "colab": {
      "provenance": [],
      "include_colab_link": true
    },
    "kernelspec": {
      "name": "python3",
      "display_name": "Python 3"
    },
    "language_info": {
      "name": "python"
    }
  },
  "cells": [
    {
      "cell_type": "markdown",
      "metadata": {
        "id": "view-in-github",
        "colab_type": "text"
      },
      "source": [
        "<a href=\"https://colab.research.google.com/github/catsnyan/catsnyan/blob/main/Introduction_to_Data_Science_SQLite_(Lab_2).ipynb\" target=\"_parent\"><img src=\"https://colab.research.google.com/assets/colab-badge.svg\" alt=\"Open In Colab\"/></a>"
      ]
    },
    {
      "cell_type": "markdown",
      "source": [
        "# 1.1. Install SQLite"
      ],
      "metadata": {
        "id": "mn4kn4u50y0P"
      }
    },
    {
      "cell_type": "markdown",
      "source": [
        "pip is the package installer for Python. It allows you to install and manage additional libraries and dependencies that are not part of the standard Python library"
      ],
      "metadata": {
        "id": "5HbF60AuiiVz"
      }
    },
    {
      "cell_type": "code",
      "source": [
        "# SQLite comes with Python versions >= 2.5\n",
        "!pip install pysqlite3"
      ],
      "metadata": {
        "id": "qgmoSO8u0xwr"
      },
      "execution_count": null,
      "outputs": []
    },
    {
      "cell_type": "code",
      "source": [],
      "metadata": {
        "id": "iVRkdj1K1Noj"
      },
      "execution_count": null,
      "outputs": []
    },
    {
      "cell_type": "markdown",
      "source": [
        "# 1.2 Create a Database"
      ],
      "metadata": {
        "id": "rp3oxlUi1cxG"
      }
    },
    {
      "cell_type": "code",
      "source": [
        "import sqlite3\n",
        "\n",
        "# Connect to db/ create db if it doesn't exist\n",
        "conn = sqlite3.connect('example.db')\n",
        "\n",
        "# Close connection when done\n",
        "conn.close()"
      ],
      "metadata": {
        "id": "lqMUmvnA1Nwa"
      },
      "execution_count": null,
      "outputs": []
    },
    {
      "cell_type": "code",
      "source": [],
      "metadata": {
        "id": "UgUhUHh92exW"
      },
      "execution_count": null,
      "outputs": []
    },
    {
      "cell_type": "markdown",
      "source": [
        "# 1.3 Create a Table"
      ],
      "metadata": {
        "id": "iVjFPx082gI1"
      }
    },
    {
      "cell_type": "markdown",
      "source": [
        "### Primary Key: Takeaways\n",
        "- If we try to insert a row with an id value that already exists, SQLite will throw an error because primary key values must be unique.\n",
        "- If we don't specify an id value when inserting, SQLite will auto-generate one for us.\n",
        "\n",
        "\n",
        "### Other Qualifiers\n",
        "\n",
        "- SQLite will raise an error if the name is NULL or email is not UNIQUE\n",
        "\n"
      ],
      "metadata": {
        "id": "MjmdbTXGOhx5"
      }
    },
    {
      "cell_type": "code",
      "source": [
        "conn = sqlite3.connect('example.db')\n",
        "cursor = conn.cursor()\n",
        "\n",
        "# Create a new table\n",
        "# cursor is an iterator\n",
        "# .execute parses the query, passes it on to the database\n",
        "cursor.execute('''\n",
        "CREATE TABLE users (\n",
        "    id INTEGER PRIMARY KEY,\n",
        "    name TEXT NOT NULL,\n",
        "    age INTEGER,\n",
        "    email TEXT UNIQUE,\n",
        "    org TEXT\n",
        ")\n",
        "''')\n",
        "\n",
        "\n",
        "conn.commit() # Commit the changes and close the connection -> Write\n",
        "conn.close() # Close the connection"
      ],
      "metadata": {
        "id": "N96IBVpK2e6Y"
      },
      "execution_count": null,
      "outputs": []
    },
    {
      "cell_type": "markdown",
      "source": [
        "## Primary Key: Analogy\n",
        "Imagine a large library with millions of books. Each book has a unique identification number, called an **ISBN (International Standard Book Number) + Decimal Number**. ISBN + Decimal Number ensures that every book can be uniquely identified, even if there are multiple copies of the same book or different books with the same title.\n",
        "\n",
        "In this analogy:\n",
        "\n",
        "- The library is like a database.\n",
        "- Each book represents a record or a row in a table.\n",
        "- The ISBN + Decimal Number is like the primary key of the table. Just as no two books in the library can have the same ISBN + Decimal Number, no two records in a database table can have the same primary key.\n",
        "\n",
        "\n",
        "This system allows users of the database to quickly locate a specific book in a vast collection."
      ],
      "metadata": {
        "id": "iA73PbcwN8Uv"
      }
    },
    {
      "cell_type": "code",
      "source": [
        "\"\"\"\n",
        "What if table already exists?\n",
        "\"\"\"\n",
        "# cursor.execute('''\n",
        "# CREATE TABLE IF NOT EXISTS users (\n",
        "#     id INTEGER PRIMARY KEY,\n",
        "#     name TEXT NOT NULL,\n",
        "#     age INTEGER,\n",
        "#     email TEXT UNIQUE,\n",
        "#     org TEXT\n",
        "# )\n",
        "# ''')"
      ],
      "metadata": {
        "id": "7-J7Uiw5QRWh"
      },
      "execution_count": null,
      "outputs": []
    },
    {
      "cell_type": "code",
      "source": [],
      "metadata": {
        "id": "r2ckEO-dBkkP"
      },
      "execution_count": null,
      "outputs": []
    },
    {
      "cell_type": "markdown",
      "source": [
        "# 1.4 Insert New Records\n",
        "## Cursor Objects\n",
        "- A cursor is a database control structure that you use to execute SQL queries and fetch results\n",
        "- It acts as an intermediary between the user and the database, allowing for the execution of SQL statements and retrieval of results.\n",
        "- The cursor object (cursor) provides methods like execute, executemany, and fetchall to interact with the database."
      ],
      "metadata": {
        "id": "JE1Panjm26Ww"
      }
    },
    {
      "cell_type": "code",
      "source": [
        "# Catch the error\n",
        "conn = sqlite3.connect('example.db')\n",
        "cursor = conn.cursor()\n",
        "\n",
        "# Insert new records\n",
        "data = [(\"John\", 30, \"john.doe@example.com\", \"meta\"), (\"Jane\", 22, \"jane.doe@example.com\", \"hp\")]\n",
        "cursor.executemany(\"INSERT INTO users (name, age, email) VALUES (?, ?, ?, ?)\", data)\n",
        "\n",
        "conn.commit()\n",
        "conn.close()"
      ],
      "metadata": {
        "id": "KRIez4gJ26fz"
      },
      "execution_count": null,
      "outputs": []
    },
    {
      "cell_type": "code",
      "source": [
        "conn = sqlite3.connect('example.db')\n",
        "cursor = conn.cursor()\n",
        "\n",
        "# Insert new records\n",
        "data = [(\"John\", 30, \"john.doe@example.com\", \"meta\"), (\"Jane\", 22, \"jane.doe@example.com\", \"hp\"), (\"James\", 22, \"james.doe@example.com\", \"meta\")]\n",
        "cursor.executemany(\"INSERT OR IGNORE INTO users (name, age, email, org) VALUES (?, ?, ?, ?)\", data)\n",
        "\n",
        "conn.commit()\n",
        "conn.close()"
      ],
      "metadata": {
        "id": "bRjbN2HB2_KK"
      },
      "execution_count": null,
      "outputs": []
    },
    {
      "cell_type": "code",
      "source": [
        "\"\"\"\n",
        "Inserting from a csv\n",
        "\"\"\"\n",
        "\n",
        "# import csv\n",
        "\n",
        "# with open('users.csv', 'r') as file:\n",
        "#     # Use DictReader to read CSV as a list of dictionaries\n",
        "#     reader = csv.DictReader(file)\n",
        "#     to_db = [(i['name'], i['age'], i['email']) for i in reader]\n",
        "\n",
        "# cursor.executemany(\"INSERT OR IGNORE INTO users (name, age, email) VALUES (?, ?, ?);\", to_db)\n",
        "# conn.commit()\n",
        "# conn.close()"
      ],
      "metadata": {
        "id": "N8BzM9jG4q-Y"
      },
      "execution_count": null,
      "outputs": []
    },
    {
      "cell_type": "code",
      "source": [],
      "metadata": {
        "id": "qh3CAjfO6ZM9"
      },
      "execution_count": null,
      "outputs": []
    },
    {
      "cell_type": "markdown",
      "source": [
        "# 1.5 Fetch Records"
      ],
      "metadata": {
        "id": "fV7SgyHc3ES5"
      }
    },
    {
      "cell_type": "code",
      "source": [
        "conn = sqlite3.connect('example.db')\n",
        "cursor = conn.cursor()\n",
        "\n",
        "# Fetch all records\n",
        "cursor.execute(\"SELECT * FROM users\")\n",
        "all_users = cursor.fetchall()\n",
        "all_users"
      ],
      "metadata": {
        "colab": {
          "base_uri": "https://localhost:8080/"
        },
        "id": "svlMoIKI3Eng",
        "outputId": "c257b8cd-bf58-488d-f827-3e9f4648bd08"
      },
      "execution_count": null,
      "outputs": [
        {
          "output_type": "execute_result",
          "data": {
            "text/plain": [
              "[(1, 'John', 30, 'john.doe@example.com', 'meta'),\n",
              " (2, 'Jane', 22, 'jane.doe@example.com', 'hp'),\n",
              " (3, 'James', 22, 'james.doe@example.com', 'meta')]"
            ]
          },
          "metadata": {},
          "execution_count": 8
        }
      ]
    },
    {
      "cell_type": "code",
      "source": [
        "\"\"\"Fetch records with a WHERE clause\"\"\"\n",
        "\n",
        "cursor.execute(\"SELECT * FROM users WHERE age > ?\", (25,))\n",
        "users_above_25 = cursor.fetchall()\n",
        "users_above_25"
      ],
      "metadata": {
        "colab": {
          "base_uri": "https://localhost:8080/"
        },
        "id": "BKXj3n4T3Nwn",
        "outputId": "f4923612-f4c0-4c1d-c6f4-289f72a3fdd5"
      },
      "execution_count": null,
      "outputs": [
        {
          "output_type": "execute_result",
          "data": {
            "text/plain": [
              "[(1, 'John', 30, 'john.doe@example.com', 'meta')]"
            ]
          },
          "metadata": {},
          "execution_count": 9
        }
      ]
    },
    {
      "cell_type": "code",
      "source": [],
      "metadata": {
        "id": "Z6npOyVfT9yT"
      },
      "execution_count": null,
      "outputs": []
    },
    {
      "cell_type": "markdown",
      "source": [
        "# 1.6 Group By and Aggregations"
      ],
      "metadata": {
        "id": "fEPD88EAT97q"
      }
    },
    {
      "cell_type": "code",
      "source": [
        "# COUNT, SUM, AVG, MAX, MIN\n",
        "\n",
        "cursor.execute(\"SELECT org, COUNT(*) FROM users GROUP BY org\")\n",
        "count_org = cursor.fetchall()\n",
        "for user in count_org:\n",
        "    print(user)"
      ],
      "metadata": {
        "id": "fa8sctT83SHS",
        "colab": {
          "base_uri": "https://localhost:8080/"
        },
        "outputId": "7d059ab8-7ea0-4328-9292-2ddb5dcb3b0b"
      },
      "execution_count": null,
      "outputs": [
        {
          "output_type": "stream",
          "name": "stdout",
          "text": [
            "('hp', 1)\n",
            "('meta', 2)\n"
          ]
        }
      ]
    },
    {
      "cell_type": "code",
      "source": [
        "# cursor.execute('''CREATE TABLE agg (org TEXT PRIMARY KEY, count_org INTEGER)''')\n",
        "# conn.commit()"
      ],
      "metadata": {
        "id": "1M_w2iVPFLbu"
      },
      "execution_count": null,
      "outputs": []
    },
    {
      "cell_type": "code",
      "source": [
        "# cursor.executemany(\"INSERT into agg (org, count_org) VALUES (?, ?)\", count_org)"
      ],
      "metadata": {
        "id": "nDhK2sbiGgDa"
      },
      "execution_count": null,
      "outputs": []
    },
    {
      "cell_type": "code",
      "source": [
        "# cursor.execute(\"SELECT * from agg\")\n",
        "# count_org = cursor.fetchall()"
      ],
      "metadata": {
        "id": "n1AdADcaG94S"
      },
      "execution_count": null,
      "outputs": []
    },
    {
      "cell_type": "code",
      "source": [
        "# Order by (using numbers)\n",
        "cursor.execute(\"SELECT org, COUNT(*) FROM users GROUP BY org ORDER BY 1 DESC\")\n",
        "count_org = cursor.fetchall()\n",
        "for user in count_org:\n",
        "    print(user)"
      ],
      "metadata": {
        "colab": {
          "base_uri": "https://localhost:8080/"
        },
        "id": "l7Mpy2VaRQiD",
        "outputId": "e4b0e4a2-32fb-4728-d13a-b9f8df37ec3a"
      },
      "execution_count": null,
      "outputs": [
        {
          "output_type": "stream",
          "name": "stdout",
          "text": [
            "('meta', 2)\n",
            "('hp', 1)\n"
          ]
        }
      ]
    },
    {
      "cell_type": "code",
      "source": [],
      "metadata": {
        "id": "7QRNM1rmUY35"
      },
      "execution_count": null,
      "outputs": []
    },
    {
      "cell_type": "markdown",
      "source": [
        "# 1.7 Advanced Concepts\n",
        "## 1.7.1 Transactions\n",
        "Transactions allow you to execute a series of operations as a single unit. If one operation fails, the entire transaction can be rolled back, ensuring data integrity."
      ],
      "metadata": {
        "id": "AnqQPamscBaN"
      }
    },
    {
      "cell_type": "code",
      "source": [
        "conn = sqlite3.connect('example2.db')\n",
        "cursor = conn.cursor()\n",
        "\n",
        "try:\n",
        "    cursor.execute(\"INSERT INTO users (name, age, email) VALUES (?, ?, ?)\", (\"Alice\", 28, \"alice@example.com\"))\n",
        "    cursor.execute(\"INSERT INTO users (name, age, email) VALUES (?, ?, ?)\", (\"Bob\", 32, \"bob@example.com\"))\n",
        "    conn.commit()\n",
        "except:\n",
        "    conn.rollback()"
      ],
      "metadata": {
        "id": "C263BsfUU0Ly"
      },
      "execution_count": null,
      "outputs": []
    },
    {
      "cell_type": "code",
      "source": [
        "conn = sqlite3.connect('example2.db')\n",
        "cursor = conn.cursor()\n",
        "cursor.execute(\"SELECT name FROM sqlite_master WHERE type='table';\")\n",
        "tables = cursor.fetchall()\n",
        "\n",
        "for table in tables:\n",
        "    print(table[0])"
      ],
      "metadata": {
        "id": "REJD9y2NctBn"
      },
      "execution_count": null,
      "outputs": []
    },
    {
      "cell_type": "markdown",
      "source": [
        "**Atomicity:**\n",
        "- This property ensures that a transaction is treated as a single, indivisible unit of work.\n",
        "- Either all of its changes are committed to the database, or if the transaction fails, none of its changes are committed.\n",
        "- In other words, database transactions are atomic; they are either fully completed or fully rolled back."
      ],
      "metadata": {
        "id": "kaVBAIY1dr2u"
      }
    },
    {
      "cell_type": "code",
      "source": [],
      "metadata": {
        "id": "EO9u8TAcd3oF"
      },
      "execution_count": null,
      "outputs": []
    },
    {
      "cell_type": "markdown",
      "source": [
        "## 1.7.2 Concurrency\n",
        "In an online ticket booking system, when Alice selects a ticket, the system temporarily locks it. Simultaneously, if Bob tries to select the same ticket, the system informs him it's being processed by another user. This concurrency control ensures that both Alice and Bob can't purchase the same ticket, preventing conflicts and maintaining data consistency. Proper concurrency mechanisms are crucial in databases to handle simultaneous operations without data inconsistencies.\n",
        "\n",
        "- When one connection starts writing to the database, SQLite locks the entire file until the write is complete\n",
        "\n",
        "- Other connections can read from the database during this time but cannot write."
      ],
      "metadata": {
        "id": "YkEk7yFad2kp"
      }
    },
    {
      "cell_type": "code",
      "source": [],
      "metadata": {
        "id": "BArwej-Tcae-"
      },
      "execution_count": null,
      "outputs": []
    },
    {
      "cell_type": "markdown",
      "source": [
        "## 1.7.3 Indexing"
      ],
      "metadata": {
        "id": "rSVAmkySfBC1"
      }
    },
    {
      "cell_type": "code",
      "source": [
        "import sqlite3\n",
        "import time\n",
        "\n",
        "# Setup\n",
        "conn = sqlite3.connect(':memory:')  # Create an in-memory database for faster operations\n",
        "cursor = conn.cursor()\n",
        "cursor.execute('''\n",
        "CREATE TABLE users (\n",
        "    id INTEGER PRIMARY KEY,\n",
        "    email TEXT\n",
        ")\n",
        "''')\n",
        "# Insert 1 million dummy email records\n",
        "for i in range(1000000):\n",
        "    cursor.execute(\"INSERT INTO users (email) VALUES (?)\", (f\"user{i}@example.com\",))\n",
        "conn.commit()\n",
        "\n",
        "# Without Index\n",
        "start_time = time.time()\n",
        "cursor.execute(\"SELECT * FROM users WHERE email='user999999@example.com'\")\n",
        "print(\"Without Index: --- %s seconds ---\" % (time.time() - start_time))\n"
      ],
      "metadata": {
        "colab": {
          "base_uri": "https://localhost:8080/"
        },
        "id": "hrUEbjjOfJy8",
        "outputId": "6ee77743-0711-4dea-ab4c-72a254bba7be"
      },
      "execution_count": null,
      "outputs": [
        {
          "output_type": "stream",
          "name": "stdout",
          "text": [
            "Without Index: --- 0.07933354377746582 seconds ---\n"
          ]
        }
      ]
    },
    {
      "cell_type": "code",
      "source": [
        "# Create an index on the email column\n",
        "cursor.execute(\"CREATE INDEX idx_email ON users (email)\")\n",
        "\n",
        "# With Index\n",
        "start_time = time.time()\n",
        "cursor.execute(\"SELECT * FROM users WHERE email='user999999@example.com'\")\n",
        "print(\"With Index: --- %s seconds ---\" % (time.time() - start_time))\n",
        "\n",
        "conn.close()"
      ],
      "metadata": {
        "colab": {
          "base_uri": "https://localhost:8080/"
        },
        "id": "vywTUFaBfJ4j",
        "outputId": "618680e3-ce29-41a7-f9d4-9143b2a1fc81"
      },
      "execution_count": null,
      "outputs": [
        {
          "output_type": "stream",
          "name": "stdout",
          "text": [
            "With Index: --- 0.00021123886108398438 seconds ---\n"
          ]
        }
      ]
    },
    {
      "cell_type": "markdown",
      "source": [
        "**Indexing** the email column creates a data structure (typically a B-tree) that improves the speed of data retrieval operations on that column.\n",
        "\n",
        "- Storage Overhead: The index consumes additional disk space. This overhead can be significant, the trade-off is the faster query performance.\n",
        "\n",
        "![image.png](data:image/png;base64,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)"
      ],
      "metadata": {
        "id": "9ZV-kTmDgFIs"
      }
    },
    {
      "cell_type": "code",
      "source": [],
      "metadata": {
        "id": "KaNvcsbdf250"
      },
      "execution_count": null,
      "outputs": []
    },
    {
      "cell_type": "markdown",
      "source": [
        "# Resources\n",
        "**More SQL commands:** https://github.com/AmanSinghal927/Intro-to-DS-SQL/blob/main/sql_presenter.md\n",
        "\n",
        "**Interview Style SQL Practice Questions:** https://github.com/TulipAggarwal/LeetCode-SQL50-Solutions\n",
        "\n",
        "**More Advanced Concepts:** https://www.sqlite.org/docs.html"
      ],
      "metadata": {
        "id": "CUY36hbzj99E"
      }
    },
    {
      "cell_type": "code",
      "source": [],
      "metadata": {
        "id": "Uvq9bkrukCYE"
      },
      "execution_count": null,
      "outputs": []
    }
  ]
}